{
 "cells": [
  {
   "cell_type": "code",
   "execution_count": 1,
   "id": "aefbede4",
   "metadata": {},
   "outputs": [],
   "source": [
    "%load_ext autoreload  "
   ]
  },
  {
   "cell_type": "code",
   "execution_count": 2,
   "id": "97f4b35f",
   "metadata": {},
   "outputs": [],
   "source": [
    "%autoreload 2 "
   ]
  },
  {
   "cell_type": "code",
   "execution_count": 3,
   "id": "17e06870",
   "metadata": {},
   "outputs": [],
   "source": [
    "from shareproject import lib"
   ]
  },
  {
   "cell_type": "code",
   "execution_count": 5,
   "id": "211e6fe7",
   "metadata": {},
   "outputs": [
    {
     "name": "stdout",
     "output_type": "stream",
     "text": [
      "What is orange and sound like a parrot ?ncce\n",
      "You answered 'ncce'...\n"
     ]
    },
    {
     "data": {
      "text/plain": [
       "\"' ncce ' is not the right answer... Try again !\""
      ]
     },
     "execution_count": 5,
     "metadata": {},
     "output_type": "execute_result"
    }
   ],
   "source": [
    "lib.try_me()"
   ]
  },
  {
   "cell_type": "code",
   "execution_count": null,
   "id": "2d39adc1",
   "metadata": {},
   "outputs": [],
   "source": []
  }
 ],
 "metadata": {
  "kernelspec": {
   "display_name": "Python 3 (ipykernel)",
   "language": "python",
   "name": "python3"
  },
  "language_info": {
   "codemirror_mode": {
    "name": "ipython",
    "version": 3
   },
   "file_extension": ".py",
   "mimetype": "text/x-python",
   "name": "python",
   "nbconvert_exporter": "python",
   "pygments_lexer": "ipython3",
   "version": "3.8.12"
  },
  "toc": {
   "base_numbering": 1,
   "nav_menu": {},
   "number_sections": true,
   "sideBar": true,
   "skip_h1_title": false,
   "title_cell": "Table of Contents",
   "title_sidebar": "Contents",
   "toc_cell": false,
   "toc_position": {},
   "toc_section_display": true,
   "toc_window_display": false
  }
 },
 "nbformat": 4,
 "nbformat_minor": 5
}
